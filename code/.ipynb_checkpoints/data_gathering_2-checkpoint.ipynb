{
 "cells": [
  {
   "cell_type": "code",
   "execution_count": 1,
   "id": "regional-zambia",
   "metadata": {},
   "outputs": [
    {
     "name": "stderr",
     "output_type": "stream",
     "text": [
      "C:\\Users\\DanielPrestonMc\\anaconda3\\envs\\dsi\\lib\\site-packages\\IPython\\core\\interactiveshell.py:3165: DtypeWarning: Columns (4) have mixed types.Specify dtype option on import or set low_memory=False.\n",
      "  has_raised = await self.run_ast_nodes(code_ast.body, cell_name,\n"
     ]
    }
   ],
   "source": [
    "import pandas as pd\n",
    "import numpy as np\n",
    "\n",
    "data = pd.read_csv('../data/pseoe_all.csv')\n",
    "schools = pd.read_csv('../data/label_institution.csv')\n",
    "degree = pd.read_csv('../data/label_degree_level.csv')"
   ]
  },
  {
   "cell_type": "code",
   "execution_count": 2,
   "id": "electronic-dairy",
   "metadata": {},
   "outputs": [],
   "source": [
    "data = data.drop(columns=['cip_level','cipcode','geography','geo_level','agg_level_pseo','inst_level'])"
   ]
  },
  {
   "cell_type": "code",
   "execution_count": 3,
   "id": "forty-report",
   "metadata": {},
   "outputs": [],
   "source": [
    "schools.rename(columns={'label':'school_name'}, inplace=True)\n",
    "schools = schools.drop(columns=['inst_level'])"
   ]
  },
  {
   "cell_type": "code",
   "execution_count": 4,
   "id": "wireless-election",
   "metadata": {},
   "outputs": [],
   "source": [
    "data = data.merge(degree, how='left', on='degree_level')\n",
    "data = data.merge(schools, how='left', on='institution')"
   ]
  },
  {
   "cell_type": "code",
   "execution_count": 5,
   "id": "together-fleet",
   "metadata": {},
   "outputs": [],
   "source": [
    "data.rename(columns={'label':'degree_type'}, inplace=True)\n",
    "data.drop(columns=['statefips'], inplace=True)"
   ]
  },
  {
   "cell_type": "code",
   "execution_count": 6,
   "id": "ready-charles",
   "metadata": {},
   "outputs": [],
   "source": [
    "status_cols = [col for col in data if col.startswith('status')]\n",
    "data.drop(columns=status_cols, inplace=True)"
   ]
  },
  {
   "cell_type": "code",
   "execution_count": 7,
   "id": "desirable-miracle",
   "metadata": {},
   "outputs": [],
   "source": [
    "new_order = ['institution', 'school_name', 'city', 'institution_state', 'degree_level', 'degree_type', 'grad_cohort', 'grad_cohort_years',\n",
    "             'y1_p25_earnings', 'y1_p50_earnings', 'y1_p75_earnings', 'y1_grads_earn',\n",
    "             'y5_p25_earnings', 'y5_p50_earnings', 'y5_p75_earnings', 'y5_grads_earn',\n",
    "             'y10_p25_earnings', 'y10_p50_earnings', 'y10_p75_earnings', 'y10_grads_earn',\n",
    "       'y1_ipeds_count', 'y5_ipeds_count', 'y10_ipeds_count']"
   ]
  },
  {
   "cell_type": "code",
   "execution_count": 8,
   "id": "usual-israeli",
   "metadata": {
    "tags": []
   },
   "outputs": [
    {
     "name": "stdout",
     "output_type": "stream",
     "text": [
      "<class 'pandas.core.frame.DataFrame'>\n",
      "Int64Index: 15544 entries, 0 to 100824\n",
      "Data columns (total 23 columns):\n",
      " #   Column             Non-Null Count  Dtype  \n",
      "---  ------             --------------  -----  \n",
      " 0   institution        15544 non-null  int64  \n",
      " 1   school_name        15544 non-null  object \n",
      " 2   city               15544 non-null  object \n",
      " 3   institution_state  15544 non-null  object \n",
      " 4   degree_level       15544 non-null  int64  \n",
      " 5   degree_type        15544 non-null  object \n",
      " 6   grad_cohort        15544 non-null  int64  \n",
      " 7   grad_cohort_years  15544 non-null  int64  \n",
      " 8   y1_p25_earnings    15544 non-null  float64\n",
      " 9   y1_p50_earnings    15544 non-null  float64\n",
      " 10  y1_p75_earnings    15544 non-null  float64\n",
      " 11  y1_grads_earn      15544 non-null  float64\n",
      " 12  y5_p25_earnings    15544 non-null  float64\n",
      " 13  y5_p50_earnings    15544 non-null  float64\n",
      " 14  y5_p75_earnings    15544 non-null  float64\n",
      " 15  y5_grads_earn      15544 non-null  float64\n",
      " 16  y10_p25_earnings   15544 non-null  float64\n",
      " 17  y10_p50_earnings   15544 non-null  float64\n",
      " 18  y10_p75_earnings   15544 non-null  float64\n",
      " 19  y10_grads_earn     15544 non-null  float64\n",
      " 20  y1_ipeds_count     15544 non-null  float64\n",
      " 21  y5_ipeds_count     15544 non-null  float64\n",
      " 22  y10_ipeds_count    15544 non-null  float64\n",
      "dtypes: float64(15), int64(4), object(4)\n",
      "memory usage: 2.8+ MB\n"
     ]
    }
   ],
   "source": [
    "data = data.reindex(columns=new_order)\n",
    "clean_data = data.dropna()\n",
    "clean_data.info()"
   ]
  },
  {
   "cell_type": "code",
   "execution_count": 9,
   "id": "middle-leonard",
   "metadata": {},
   "outputs": [],
   "source": [
    "# clean_data.to_csv('../data/clean_data.csv', index=False)"
   ]
  },
  {
   "cell_type": "code",
   "execution_count": null,
   "id": "every-barcelona",
   "metadata": {},
   "outputs": [],
   "source": []
  }
 ],
 "metadata": {
  "kernelspec": {
   "display_name": "Python 3",
   "language": "python",
   "name": "python3"
  },
  "language_info": {
   "codemirror_mode": {
    "name": "ipython",
    "version": 3
   },
   "file_extension": ".py",
   "mimetype": "text/x-python",
   "name": "python",
   "nbconvert_exporter": "python",
   "pygments_lexer": "ipython3",
   "version": "3.8.8"
  }
 },
 "nbformat": 4,
 "nbformat_minor": 5
}
